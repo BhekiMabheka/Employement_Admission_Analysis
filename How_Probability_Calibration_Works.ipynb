{
  "nbformat": 4,
  "nbformat_minor": 0,
  "metadata": {
    "colab": {
      "name": "How Probability Calibration Works.ipynb",
      "private_outputs": true,
      "provenance": [],
      "authorship_tag": "ABX9TyMYfGTnOSvfi1v0UijfLIJX",
      "include_colab_link": true
    },
    "kernelspec": {
      "name": "python3",
      "display_name": "Python 3"
    },
    "language_info": {
      "name": "python"
    }
  },
  "cells": [
    {
      "cell_type": "markdown",
      "metadata": {
        "id": "view-in-github",
        "colab_type": "text"
      },
      "source": [
        "<a href=\"https://colab.research.google.com/github/BhekiMabheka/Explore/blob/main/How_Probability_Calibration_Works.ipynb\" target=\"_parent\"><img src=\"https://colab.research.google.com/assets/colab-badge.svg\" alt=\"Open In Colab\"/></a>"
      ]
    },
    {
      "cell_type": "markdown",
      "source": [
        "## How Probability Calibration Works\n",
        "\n",
        "Probability calibration is the process of calibrating an ML model to return the true likelihood of an event. This is necessary when we need the probability of the event in question rather than its classification."
      ],
      "metadata": {
        "id": "9glbdL7ufoeT"
      }
    },
    {
      "cell_type": "code",
      "source": [],
      "metadata": {
        "id": "eKHkcvZLfq1x"
      },
      "execution_count": null,
      "outputs": []
    }
  ]
}